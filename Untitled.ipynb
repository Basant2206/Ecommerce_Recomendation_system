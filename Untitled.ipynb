{
 "cells": [
  {
   "cell_type": "code",
   "execution_count": 193,
   "id": "76a8bdee-134d-4311-96b0-62ef95c0020b",
   "metadata": {},
   "outputs": [],
   "source": [
    "import os\n",
    "import numpy as np\n",
    "import pandas as pd\n",
    "import matplotlib.pyplot as plt\n",
    "import seaborn as sns\n",
    "from sklearn.metrics.pairwise import cosine_similarity\n",
    "from sklearn.feature_extraction.text import TfidfVectorizer\n",
    "from scipy.sparse import coo_matrix"
   ]
  },
  {
   "cell_type": "code",
   "execution_count": 194,
   "id": "aec99020-eb5e-49d1-b52f-3351f2422308",
   "metadata": {},
   "outputs": [],
   "source": [
    "df=pd.read_csv(\"marketing_sample_for_walmart_5k_data.tsv\",sep='\\t')"
   ]
  },
  {
   "cell_type": "code",
   "execution_count": null,
   "id": "30ffacb1-7c38-46d6-8458-d260f3131e07",
   "metadata": {},
   "outputs": [],
   "source": []
  },
  {
   "cell_type": "code",
   "execution_count": 195,
   "id": "4cb27bdb-085c-43ab-9ff5-2c2718723b0c",
   "metadata": {},
   "outputs": [
    {
     "data": {
      "text/plain": [
       "(5000, 32)"
      ]
     },
     "execution_count": 195,
     "metadata": {},
     "output_type": "execute_result"
    }
   ],
   "source": [
    "df.shape"
   ]
  },
  {
   "cell_type": "code",
   "execution_count": 196,
   "id": "554e615e-3adc-44ef-86e9-d31e4a8d10d6",
   "metadata": {},
   "outputs": [
    {
     "data": {
      "text/plain": [
       "Index(['Uniq Id', 'Crawl Timestamp', 'Dataset Origin', 'Product Id',\n",
       "       'Product Barcode', 'Product Company Type Source',\n",
       "       'Product Brand Source', 'Product Brand Normalised Source',\n",
       "       'Product Name Source', 'Match Rank', 'Match Score', 'Match Type',\n",
       "       'Retailer', 'Product Category', 'Product Brand', 'Product Name',\n",
       "       'Product Price', 'Sku', 'Upc', 'Product Url', 'Market',\n",
       "       'Product Description', 'Product Currency',\n",
       "       'Product Available Inventory', 'Product Image Url',\n",
       "       'Product Model Number', 'Product Tags', 'Product Contents',\n",
       "       'Product Rating', 'Product Reviews Count', 'Bsr', 'Joining Key'],\n",
       "      dtype='object')"
      ]
     },
     "execution_count": 196,
     "metadata": {},
     "output_type": "execute_result"
    }
   ],
   "source": [
    "df.columns"
   ]
  },
  {
   "cell_type": "code",
   "execution_count": 197,
   "id": "afbdf7b1-ddd4-4b84-a123-8ae93bf3d7f9",
   "metadata": {},
   "outputs": [],
   "source": [
    "col=['Uniq Id','Product Id','Product Rating','Product Price','Product Reviews Count','Product Category','Product Brand','Product Name','Product Image Url','Product Description','Product Tags']\n",
    "df=df[col]"
   ]
  },
  {
   "cell_type": "code",
   "execution_count": null,
   "id": "52d43ea6-e18c-44cd-bd5a-46664c8f772f",
   "metadata": {},
   "outputs": [],
   "source": []
  },
  {
   "cell_type": "code",
   "execution_count": 199,
   "id": "ec14169a-c6d5-49d3-b177-8e6da2775480",
   "metadata": {},
   "outputs": [
    {
     "data": {
      "text/plain": [
       "Uniq Id                     0\n",
       "Product Id                  0\n",
       "Product Rating           2806\n",
       "Product Price              42\n",
       "Product Reviews Count    1654\n",
       "Product Category           10\n",
       "Product Brand              13\n",
       "Product Name                0\n",
       "Product Image Url           0\n",
       "Product Description      1127\n",
       "Product Tags                0\n",
       "dtype: int64"
      ]
     },
     "execution_count": 199,
     "metadata": {},
     "output_type": "execute_result"
    }
   ],
   "source": [
    "df.isnull().sum()"
   ]
  },
  {
   "cell_type": "code",
   "execution_count": 200,
   "id": "91285136-596a-4c40-9ae1-bcc778b59e07",
   "metadata": {},
   "outputs": [
    {
     "name": "stderr",
     "output_type": "stream",
     "text": [
      "C:\\Users\\Basant\\AppData\\Local\\Temp\\ipykernel_17608\\3110258405.py:6: FutureWarning: Series.fillna with 'method' is deprecated and will raise in a future version. Use obj.ffill() or obj.bfill() instead.\n",
      "  df['Product Price'].fillna(method='bfill',inplace=True)\n"
     ]
    }
   ],
   "source": [
    "df['Product Rating'].fillna(0,inplace=True)\n",
    "df['Product Reviews Count'].fillna(0,inplace=True)\n",
    "df['Product Category'].fillna('',inplace=True)\n",
    "df['Product Brand'].fillna('',inplace=True)\n",
    "df['Product Description'].fillna('',inplace=True)\n",
    "df['Product Price'].fillna(method='bfill',inplace=True)"
   ]
  },
  {
   "cell_type": "code",
   "execution_count": 201,
   "id": "bcdb65a5-85e5-4a1d-99ac-19d31633cc39",
   "metadata": {},
   "outputs": [
    {
     "data": {
      "text/plain": [
       "0"
      ]
     },
     "execution_count": 201,
     "metadata": {},
     "output_type": "execute_result"
    }
   ],
   "source": [
    "df.duplicated().sum()"
   ]
  },
  {
   "cell_type": "code",
   "execution_count": 202,
   "id": "2d6eb62d-2559-47bf-84f0-7777d56640d2",
   "metadata": {},
   "outputs": [
    {
     "data": {
      "text/plain": [
       "Index(['Uniq Id', 'Product Id', 'Product Rating', 'Product Price',\n",
       "       'Product Reviews Count', 'Product Category', 'Product Brand',\n",
       "       'Product Name', 'Product Image Url', 'Product Description',\n",
       "       'Product Tags'],\n",
       "      dtype='object')"
      ]
     },
     "execution_count": 202,
     "metadata": {},
     "output_type": "execute_result"
    }
   ],
   "source": [
    "df.columns"
   ]
  },
  {
   "cell_type": "code",
   "execution_count": 203,
   "id": "ccc89125-9da5-4c61-a7ab-96e3f28f6b82",
   "metadata": {},
   "outputs": [],
   "source": [
    "colnamemap={\n",
    "    'Uniq Id':'id',\n",
    "    'Product Id':'prodId',\n",
    "    'Product Rating':'rating',\n",
    "    'Product Price':'price',\n",
    "    'Product Reviews Count':'reviewCount',\n",
    "    'Product Category':'category', \n",
    "    'Product Brand':'brand', \n",
    "    'Product Name':'name',\n",
    "    'Product Image Url':'imageUrl', \n",
    "    'Product Description':'description', \n",
    "    'Product Tags':'tags'\n",
    "}\n"
   ]
  },
  {
   "cell_type": "code",
   "execution_count": 204,
   "id": "93add1c5-6aa5-49ea-925e-94094060b5ed",
   "metadata": {},
   "outputs": [],
   "source": [
    "df.rename(columns=colnamemap, inplace=True)"
   ]
  },
  {
   "cell_type": "code",
   "execution_count": null,
   "id": "a553aa82-53d8-4ca4-9fd2-edff367d66c2",
   "metadata": {},
   "outputs": [],
   "source": []
  },
  {
   "cell_type": "code",
   "execution_count": null,
   "id": "b32f6480-24a8-4600-b6e3-00aa96e44e8d",
   "metadata": {},
   "outputs": [],
   "source": []
  },
  {
   "cell_type": "code",
   "execution_count": 141,
   "id": "4776c6af-8ec5-4cfb-a752-45ec8dbc7953",
   "metadata": {},
   "outputs": [],
   "source": [
    "df['id']=df['id'].str.extract(r'(\\d+)').astype(float)\n",
    "df['prodId']=df['prodId'].str.extract(r'(\\d+)').astype(float)"
   ]
  },
  {
   "cell_type": "code",
   "execution_count": 142,
   "id": "17dc78a1-b2c6-445b-b4b6-a3b06625d40b",
   "metadata": {},
   "outputs": [
    {
     "data": {
      "text/html": [
       "<div>\n",
       "<style scoped>\n",
       "    .dataframe tbody tr th:only-of-type {\n",
       "        vertical-align: middle;\n",
       "    }\n",
       "\n",
       "    .dataframe tbody tr th {\n",
       "        vertical-align: top;\n",
       "    }\n",
       "\n",
       "    .dataframe thead th {\n",
       "        text-align: right;\n",
       "    }\n",
       "</style>\n",
       "<table border=\"1\" class=\"dataframe\">\n",
       "  <thead>\n",
       "    <tr style=\"text-align: right;\">\n",
       "      <th></th>\n",
       "      <th>id</th>\n",
       "      <th>prodId</th>\n",
       "      <th>rating</th>\n",
       "      <th>price</th>\n",
       "      <th>reviewCount</th>\n",
       "      <th>category</th>\n",
       "      <th>brand</th>\n",
       "      <th>name</th>\n",
       "      <th>imageUrl</th>\n",
       "      <th>description</th>\n",
       "      <th>tags</th>\n",
       "    </tr>\n",
       "  </thead>\n",
       "  <tbody>\n",
       "    <tr>\n",
       "      <th>0</th>\n",
       "      <td>1.705737e+09</td>\n",
       "      <td>2.0</td>\n",
       "      <td>0.0</td>\n",
       "      <td>8.95</td>\n",
       "      <td>0.0</td>\n",
       "      <td>Premium Beauty &gt; Premium Makeup &gt; Premium Nail...</td>\n",
       "      <td>OPI</td>\n",
       "      <td>OPI Infinite Shine, Nail Lacquer Nail Polish, ...</td>\n",
       "      <td>https://i5.walmartimages.com/asr/0e1f4c51-c1a4...</td>\n",
       "      <td></td>\n",
       "      <td>OPI Infinite Shine, Nail Lacquer Nail Polish, ...</td>\n",
       "    </tr>\n",
       "    <tr>\n",
       "      <th>1</th>\n",
       "      <td>9.500000e+01</td>\n",
       "      <td>76.0</td>\n",
       "      <td>0.0</td>\n",
       "      <td>29.86</td>\n",
       "      <td>0.0</td>\n",
       "      <td>Beauty &gt; Hair Care &gt; Hair Color &gt; Auburn Hair ...</td>\n",
       "      <td>Nice'n Easy</td>\n",
       "      <td>Nice n Easy Permanent Color, 111 Natural Mediu...</td>\n",
       "      <td>https://i5.walmartimages.com/asr/9c8e42e4-13a5...</td>\n",
       "      <td>Pack of 3 Pack of 3 for the UPC: 381519000201 ...</td>\n",
       "      <td>Nice 'n Easy Permanent Color, 111 Natural Medi...</td>\n",
       "    </tr>\n",
       "    <tr>\n",
       "      <th>2</th>\n",
       "      <td>8.000000e+00</td>\n",
       "      <td>8.0</td>\n",
       "      <td>4.5</td>\n",
       "      <td>7.99</td>\n",
       "      <td>29221.0</td>\n",
       "      <td>Beauty &gt; Hair Care &gt; Hair Color &gt; Permanent Ha...</td>\n",
       "      <td>Clairol</td>\n",
       "      <td>Clairol Nice N Easy Permanent Color 7/106A Nat...</td>\n",
       "      <td>https://i5.walmartimages.com/asr/e3a601c2-6a2b...</td>\n",
       "      <td>This Clairol Nice N Easy Permanent Color gives...</td>\n",
       "      <td>Clairol Nice 'N Easy Permanent Color 7/106A Na...</td>\n",
       "    </tr>\n",
       "    <tr>\n",
       "      <th>3</th>\n",
       "      <td>4.000000e+00</td>\n",
       "      <td>3.0</td>\n",
       "      <td>0.0</td>\n",
       "      <td>5.16</td>\n",
       "      <td>0.0</td>\n",
       "      <td>Beauty &gt; Makeup &gt; Lip</td>\n",
       "      <td>Kokie Cosmetics</td>\n",
       "      <td>Kokie Professional Matte Lipstick, Hot Berry, ...</td>\n",
       "      <td>https://i5.walmartimages.com/asr/25b4b467-bc61...</td>\n",
       "      <td>Calling all matte lip lovers! Indulge in our r...</td>\n",
       "      <td>Kokie Professional Matte Lipstick, Hot Berry, ...</td>\n",
       "    </tr>\n",
       "    <tr>\n",
       "      <th>4</th>\n",
       "      <td>9.900000e+02</td>\n",
       "      <td>3.0</td>\n",
       "      <td>0.0</td>\n",
       "      <td>19.97</td>\n",
       "      <td>131.0</td>\n",
       "      <td>Seasonal &gt; Stock Up Essentials &gt; Personal Care...</td>\n",
       "      <td>Gillette</td>\n",
       "      <td>Gillette TRAC II Plus Razor Blade Refills, Fit...</td>\n",
       "      <td>https://i5.walmartimages.com/asr/1a2ebb06-cd01...</td>\n",
       "      <td>In 1971, Gillette introduced the Trac II razor...</td>\n",
       "      <td>Gillette TRAC II Plus Razor Blade Refills, Fit...</td>\n",
       "    </tr>\n",
       "  </tbody>\n",
       "</table>\n",
       "</div>"
      ],
      "text/plain": [
       "             id  prodId  rating  price  reviewCount  \\\n",
       "0  1.705737e+09     2.0     0.0   8.95          0.0   \n",
       "1  9.500000e+01    76.0     0.0  29.86          0.0   \n",
       "2  8.000000e+00     8.0     4.5   7.99      29221.0   \n",
       "3  4.000000e+00     3.0     0.0   5.16          0.0   \n",
       "4  9.900000e+02     3.0     0.0  19.97        131.0   \n",
       "\n",
       "                                            category            brand  \\\n",
       "0  Premium Beauty > Premium Makeup > Premium Nail...              OPI   \n",
       "1  Beauty > Hair Care > Hair Color > Auburn Hair ...      Nice'n Easy   \n",
       "2  Beauty > Hair Care > Hair Color > Permanent Ha...          Clairol   \n",
       "3                              Beauty > Makeup > Lip  Kokie Cosmetics   \n",
       "4  Seasonal > Stock Up Essentials > Personal Care...         Gillette   \n",
       "\n",
       "                                                name  \\\n",
       "0  OPI Infinite Shine, Nail Lacquer Nail Polish, ...   \n",
       "1  Nice n Easy Permanent Color, 111 Natural Mediu...   \n",
       "2  Clairol Nice N Easy Permanent Color 7/106A Nat...   \n",
       "3  Kokie Professional Matte Lipstick, Hot Berry, ...   \n",
       "4  Gillette TRAC II Plus Razor Blade Refills, Fit...   \n",
       "\n",
       "                                            imageUrl  \\\n",
       "0  https://i5.walmartimages.com/asr/0e1f4c51-c1a4...   \n",
       "1  https://i5.walmartimages.com/asr/9c8e42e4-13a5...   \n",
       "2  https://i5.walmartimages.com/asr/e3a601c2-6a2b...   \n",
       "3  https://i5.walmartimages.com/asr/25b4b467-bc61...   \n",
       "4  https://i5.walmartimages.com/asr/1a2ebb06-cd01...   \n",
       "\n",
       "                                         description  \\\n",
       "0                                                      \n",
       "1  Pack of 3 Pack of 3 for the UPC: 381519000201 ...   \n",
       "2  This Clairol Nice N Easy Permanent Color gives...   \n",
       "3  Calling all matte lip lovers! Indulge in our r...   \n",
       "4  In 1971, Gillette introduced the Trac II razor...   \n",
       "\n",
       "                                                tags  \n",
       "0  OPI Infinite Shine, Nail Lacquer Nail Polish, ...  \n",
       "1  Nice 'n Easy Permanent Color, 111 Natural Medi...  \n",
       "2  Clairol Nice 'N Easy Permanent Color 7/106A Na...  \n",
       "3  Kokie Professional Matte Lipstick, Hot Berry, ...  \n",
       "4  Gillette TRAC II Plus Razor Blade Refills, Fit...  "
      ]
     },
     "execution_count": 142,
     "metadata": {},
     "output_type": "execute_result"
    }
   ],
   "source": [
    "df.head()"
   ]
  },
  {
   "cell_type": "code",
   "execution_count": 144,
   "id": "94503c03-96fd-4099-9d21-bd2c266c6881",
   "metadata": {},
   "outputs": [],
   "source": [
    "# EDA"
   ]
  },
  {
   "cell_type": "code",
   "execution_count": 145,
   "id": "6ade643f-d908-43e9-aa74-6771581dd4fc",
   "metadata": {},
   "outputs": [
    {
     "name": "stdout",
     "output_type": "stream",
     "text": [
      "Number of unique user id 1721\n",
      "Number of unique product id 1697\n",
      "Number of unique ratings 36\n"
     ]
    }
   ],
   "source": [
    "print(\"Number of unique user id\",df['id'].nunique())\n",
    "print(\"Number of unique product id\",df['prodId'].nunique())\n",
    "print(\"Number of unique ratings\",df['rating'].nunique())"
   ]
  },
  {
   "cell_type": "code",
   "execution_count": 147,
   "id": "8c95ee34-515c-479e-9650-bac297a10b65",
   "metadata": {},
   "outputs": [
    {
     "data": {
      "text/plain": [
       "<Axes: >"
      ]
     },
     "execution_count": 147,
     "metadata": {},
     "output_type": "execute_result"
    },
    {
     "data": {
      "image/png": "[encoded data removed]",
      "text/plain": [
       "<Figure size 640x480 with 1 Axes>"
      ]
     },
     "metadata": {},
     "output_type": "display_data"
    }
   ],
   "source": [
    "df['id'].value_counts().hist()"
   ]
  },
  {
   "cell_type": "code",
   "execution_count": 148,
   "id": "04830698-ff90-4cce-adc0-02f9bfa3c6d7",
   "metadata": {},
   "outputs": [
    {
     "data": {
      "text/plain": [
       "<Axes: >"
      ]
     },
     "execution_count": 148,
     "metadata": {},
     "output_type": "execute_result"
    },
    {
     "data": {
      "image/png": "[encoded data removed]",
      "text/plain": [
       "<Figure size 640x480 with 1 Axes>"
      ]
     },
     "metadata": {},
     "output_type": "display_data"
    }
   ],
   "source": [
    "df['prodId'].value_counts().hist()"
   ]
  },
  {
   "cell_type": "code",
   "execution_count": 149,
   "id": "e71db048-c899-4d80-91e6-2d3c659266a6",
   "metadata": {},
   "outputs": [
    {
     "data": {
      "text/plain": [
       "<Axes: xlabel='prodId'>"
      ]
     },
     "execution_count": 149,
     "metadata": {},
     "output_type": "execute_result"
    },
    {
     "data": {
      "image/png": "[encoded data removed]",
      "text/plain": [
       "<Figure size 640x480 with 1 Axes>"
      ]
     },
     "metadata": {},
     "output_type": "display_data"
    }
   ],
   "source": [
    "# most popular product\n",
    "df['prodId'].value_counts().head(10).plot(kind='bar')"
   ]
  },
  {
   "cell_type": "code",
   "execution_count": 150,
   "id": "4095ecac-351e-4c51-917a-ccad1a6b526d",
   "metadata": {},
   "outputs": [
    {
     "data": {
      "text/plain": [
       "<Axes: xlabel='rating'>"
      ]
     },
     "execution_count": 150,
     "metadata": {},
     "output_type": "execute_result"
    },
    {
     "data": {
      "image/png": "[encoded data removed]",
      "text/plain": [
       "<Figure size 640x480 with 1 Axes>"
      ]
     },
     "metadata": {},
     "output_type": "display_data"
    }
   ],
   "source": [
    "df['rating'].value_counts().plot(kind='bar')"
   ]
  },
  {
   "cell_type": "code",
   "execution_count": null,
   "id": "90d045a8-1e5b-4df1-811d-9c3581805205",
   "metadata": {},
   "outputs": [],
   "source": []
  },
  {
   "cell_type": "code",
   "execution_count": 151,
   "id": "58571a45-f47d-4962-87ab-803362e5126a",
   "metadata": {},
   "outputs": [],
   "source": [
    "# data cleaning & tag creation"
   ]
  },
  {
   "cell_type": "code",
   "execution_count": 152,
   "id": "cc9f298d-3013-4eac-a83c-fa3b7439a793",
   "metadata": {},
   "outputs": [],
   "source": [
    "import spacy\n",
    "from spacy.lang.en.stop_words import STOP_WORDS\n",
    "nlp=spacy.load(\"en_core_web_sm\")\n",
    "\n",
    "def clean_extract_tags(text):\n",
    "    doc=nlp(text.lower())\n",
    "    return ', '.join([token.text for token in doc if token.text.isalnum() and token.text not in STOP_WORDS])\n",
    "\n",
    "for column in ['category','brand','description']:\n",
    "    df[column]=df[column].apply(clean_extract_tags)\n",
    "\n",
    "    "
   ]
  },
  {
   "cell_type": "code",
   "execution_count": 153,
   "id": "8a5d7ead-e0e1-4a50-98f6-ac3a74911b43",
   "metadata": {},
   "outputs": [],
   "source": [
    "tags=df[['category','brand','description']].apply(lambda row: ', '.join(row), axis=1)"
   ]
  },
  {
   "cell_type": "code",
   "execution_count": 154,
   "id": "28d249b1-7cef-41bd-b12e-364959ee9bc1",
   "metadata": {},
   "outputs": [],
   "source": [
    "df['tags']=tags"
   ]
  },
  {
   "cell_type": "code",
   "execution_count": 155,
   "id": "5648c368-f8e9-48df-bdce-9de6d0cb84fa",
   "metadata": {},
   "outputs": [],
   "source": [
    "df.to_csv(\"final_data.csv\")"
   ]
  },
  {
   "cell_type": "code",
   "execution_count": 156,
   "id": "ece86aa2-8061-4247-8746-a1874c9c26cc",
   "metadata": {},
   "outputs": [
    {
     "data": {
      "text/html": [
       "<div>\n",
       "<style scoped>\n",
       "    .dataframe tbody tr th:only-of-type {\n",
       "        vertical-align: middle;\n",
       "    }\n",
       "\n",
       "    .dataframe tbody tr th {\n",
       "        vertical-align: top;\n",
       "    }\n",
       "\n",
       "    .dataframe thead th {\n",
       "        text-align: right;\n",
       "    }\n",
       "</style>\n",
       "<table border=\"1\" class=\"dataframe\">\n",
       "  <thead>\n",
       "    <tr style=\"text-align: right;\">\n",
       "      <th></th>\n",
       "      <th>id</th>\n",
       "      <th>prodId</th>\n",
       "      <th>rating</th>\n",
       "      <th>price</th>\n",
       "      <th>reviewCount</th>\n",
       "      <th>category</th>\n",
       "      <th>brand</th>\n",
       "      <th>name</th>\n",
       "      <th>imageUrl</th>\n",
       "      <th>description</th>\n",
       "      <th>tags</th>\n",
       "    </tr>\n",
       "  </thead>\n",
       "  <tbody>\n",
       "    <tr>\n",
       "      <th>0</th>\n",
       "      <td>1.705737e+09</td>\n",
       "      <td>2.0</td>\n",
       "      <td>0.0</td>\n",
       "      <td>8.95</td>\n",
       "      <td>0.0</td>\n",
       "      <td>premium, beauty, premium, makeup, premium, nai...</td>\n",
       "      <td>opi</td>\n",
       "      <td>OPI Infinite Shine, Nail Lacquer Nail Polish, ...</td>\n",
       "      <td>https://i5.walmartimages.com/asr/0e1f4c51-c1a4...</td>\n",
       "      <td></td>\n",
       "      <td>premium, beauty, premium, makeup, premium, nai...</td>\n",
       "    </tr>\n",
       "    <tr>\n",
       "      <th>1</th>\n",
       "      <td>9.500000e+01</td>\n",
       "      <td>76.0</td>\n",
       "      <td>0.0</td>\n",
       "      <td>29.86</td>\n",
       "      <td>0.0</td>\n",
       "      <td>beauty, hair, care, hair, color, auburn, hair,...</td>\n",
       "      <td>easy</td>\n",
       "      <td>Nice n Easy Permanent Color, 111 Natural Mediu...</td>\n",
       "      <td>https://i5.walmartimages.com/asr/9c8e42e4-13a5...</td>\n",
       "      <td>pack, 3, pack, 3, upc, 381519000201, beautiful...</td>\n",
       "      <td>beauty, hair, care, hair, color, auburn, hair,...</td>\n",
       "    </tr>\n",
       "    <tr>\n",
       "      <th>2</th>\n",
       "      <td>8.000000e+00</td>\n",
       "      <td>8.0</td>\n",
       "      <td>4.5</td>\n",
       "      <td>7.99</td>\n",
       "      <td>29221.0</td>\n",
       "      <td>beauty, hair, care, hair, color, permanent, ha...</td>\n",
       "      <td>clairol</td>\n",
       "      <td>Clairol Nice N Easy Permanent Color 7/106A Nat...</td>\n",
       "      <td>https://i5.walmartimages.com/asr/e3a601c2-6a2b...</td>\n",
       "      <td>clairol, nice, n, easy, permanent, color, give...</td>\n",
       "      <td>beauty, hair, care, hair, color, permanent, ha...</td>\n",
       "    </tr>\n",
       "    <tr>\n",
       "      <th>3</th>\n",
       "      <td>4.000000e+00</td>\n",
       "      <td>3.0</td>\n",
       "      <td>0.0</td>\n",
       "      <td>5.16</td>\n",
       "      <td>0.0</td>\n",
       "      <td>beauty, makeup, lip</td>\n",
       "      <td>kokie, cosmetics</td>\n",
       "      <td>Kokie Professional Matte Lipstick, Hot Berry, ...</td>\n",
       "      <td>https://i5.walmartimages.com/asr/25b4b467-bc61...</td>\n",
       "      <td>calling, matte, lip, lovers, indulge, rich, cr...</td>\n",
       "      <td>beauty, makeup, lip, kokie, cosmetics, calling...</td>\n",
       "    </tr>\n",
       "    <tr>\n",
       "      <th>4</th>\n",
       "      <td>9.900000e+02</td>\n",
       "      <td>3.0</td>\n",
       "      <td>0.0</td>\n",
       "      <td>19.97</td>\n",
       "      <td>131.0</td>\n",
       "      <td>seasonal, stock, essentials, personal, care, s...</td>\n",
       "      <td>gillette</td>\n",
       "      <td>Gillette TRAC II Plus Razor Blade Refills, Fit...</td>\n",
       "      <td>https://i5.walmartimages.com/asr/1a2ebb06-cd01...</td>\n",
       "      <td>1971, gillette, introduced, trac, ii, razor, s...</td>\n",
       "      <td>seasonal, stock, essentials, personal, care, s...</td>\n",
       "    </tr>\n",
       "  </tbody>\n",
       "</table>\n",
       "</div>"
      ],
      "text/plain": [
       "             id  prodId  rating  price  reviewCount  \\\n",
       "0  1.705737e+09     2.0     0.0   8.95          0.0   \n",
       "1  9.500000e+01    76.0     0.0  29.86          0.0   \n",
       "2  8.000000e+00     8.0     4.5   7.99      29221.0   \n",
       "3  4.000000e+00     3.0     0.0   5.16          0.0   \n",
       "4  9.900000e+02     3.0     0.0  19.97        131.0   \n",
       "\n",
       "                                            category             brand  \\\n",
       "0  premium, beauty, premium, makeup, premium, nai...               opi   \n",
       "1  beauty, hair, care, hair, color, auburn, hair,...              easy   \n",
       "2  beauty, hair, care, hair, color, permanent, ha...           clairol   \n",
       "3                                beauty, makeup, lip  kokie, cosmetics   \n",
       "4  seasonal, stock, essentials, personal, care, s...          gillette   \n",
       "\n",
       "                                                name  \\\n",
       "0  OPI Infinite Shine, Nail Lacquer Nail Polish, ...   \n",
       "1  Nice n Easy Permanent Color, 111 Natural Mediu...   \n",
       "2  Clairol Nice N Easy Permanent Color 7/106A Nat...   \n",
       "3  Kokie Professional Matte Lipstick, Hot Berry, ...   \n",
       "4  Gillette TRAC II Plus Razor Blade Refills, Fit...   \n",
       "\n",
       "                                            imageUrl  \\\n",
       "0  https://i5.walmartimages.com/asr/0e1f4c51-c1a4...   \n",
       "1  https://i5.walmartimages.com/asr/9c8e42e4-13a5...   \n",
       "2  https://i5.walmartimages.com/asr/e3a601c2-6a2b...   \n",
       "3  https://i5.walmartimages.com/asr/25b4b467-bc61...   \n",
       "4  https://i5.walmartimages.com/asr/1a2ebb06-cd01...   \n",
       "\n",
       "                                         description  \\\n",
       "0                                                      \n",
       "1  pack, 3, pack, 3, upc, 381519000201, beautiful...   \n",
       "2  clairol, nice, n, easy, permanent, color, give...   \n",
       "3  calling, matte, lip, lovers, indulge, rich, cr...   \n",
       "4  1971, gillette, introduced, trac, ii, razor, s...   \n",
       "\n",
       "                                                tags  \n",
       "0  premium, beauty, premium, makeup, premium, nai...  \n",
       "1  beauty, hair, care, hair, color, auburn, hair,...  \n",
       "2  beauty, hair, care, hair, color, permanent, ha...  \n",
       "3  beauty, makeup, lip, kokie, cosmetics, calling...  \n",
       "4  seasonal, stock, essentials, personal, care, s...  "
      ]
     },
     "execution_count": 156,
     "metadata": {},
     "output_type": "execute_result"
    }
   ],
   "source": [
    "df.head()"
   ]
  },
  {
   "cell_type": "code",
   "execution_count": 157,
   "id": "7a8f80d1-eecd-4a4c-b934-9da001e96b09",
   "metadata": {},
   "outputs": [],
   "source": [
    "# Rating Base recommendations system"
   ]
  },
  {
   "cell_type": "code",
   "execution_count": 158,
   "id": "3e6aed13-6c8d-4cb5-8ffb-42a5acc9f231",
   "metadata": {},
   "outputs": [],
   "source": [
    "avg_rating=df.groupby(['name','reviewCount','brand','price','imageUrl'])['rating'].mean().reset_index()"
   ]
  },
  {
   "cell_type": "code",
   "execution_count": 159,
   "id": "5c0aa63a-1187-4ad2-92ba-600b7c94d102",
   "metadata": {},
   "outputs": [],
   "source": [
    "top_rated=avg_rating.sort_values(by='rating',ascending=False)\n",
    "rating_based_recommendation=top_rated.head(10)"
   ]
  },
  {
   "cell_type": "code",
   "execution_count": 160,
   "id": "5406453d-4300-4472-aaf3-7f6de16f610e",
   "metadata": {},
   "outputs": [
    {
     "name": "stderr",
     "output_type": "stream",
     "text": [
      "C:\\Users\\Basant\\AppData\\Local\\Temp\\ipykernel_17608\\2251631597.py:1: SettingWithCopyWarning: \n",
      "A value is trying to be set on a copy of a slice from a DataFrame.\n",
      "Try using .loc[row_indexer,col_indexer] = value instead\n",
      "\n",
      "See the caveats in the documentation: https://pandas.pydata.org/pandas-docs/stable/user_guide/indexing.html#returning-a-view-versus-a-copy\n",
      "  rating_based_recommendation['rating']=rating_based_recommendation['rating'].astype(int)\n",
      "C:\\Users\\Basant\\AppData\\Local\\Temp\\ipykernel_17608\\2251631597.py:2: SettingWithCopyWarning: \n",
      "A value is trying to be set on a copy of a slice from a DataFrame.\n",
      "Try using .loc[row_indexer,col_indexer] = value instead\n",
      "\n",
      "See the caveats in the documentation: https://pandas.pydata.org/pandas-docs/stable/user_guide/indexing.html#returning-a-view-versus-a-copy\n",
      "  rating_based_recommendation['reviewCount']=rating_based_recommendation['reviewCount'].astype(int)\n"
     ]
    }
   ],
   "source": [
    "rating_based_recommendation['rating']=rating_based_recommendation['rating'].astype(int)\n",
    "rating_based_recommendation['reviewCount']=rating_based_recommendation['reviewCount'].astype(int)"
   ]
  },
  {
   "cell_type": "code",
   "execution_count": 161,
   "id": "90a445c7-10ba-4068-afb2-408e738ce403",
   "metadata": {},
   "outputs": [
    {
     "name": "stdout",
     "output_type": "stream",
     "text": [
      "RAting Based Recommended product: Top Trending Products\n"
     ]
    },
    {
     "data": {
      "text/html": [
       "<div>\n",
       "<style scoped>\n",
       "    .dataframe tbody tr th:only-of-type {\n",
       "        vertical-align: middle;\n",
       "    }\n",
       "\n",
       "    .dataframe tbody tr th {\n",
       "        vertical-align: top;\n",
       "    }\n",
       "\n",
       "    .dataframe thead th {\n",
       "        text-align: right;\n",
       "    }\n",
       "</style>\n",
       "<table border=\"1\" class=\"dataframe\">\n",
       "  <thead>\n",
       "    <tr style=\"text-align: right;\">\n",
       "      <th></th>\n",
       "      <th>name</th>\n",
       "      <th>rating</th>\n",
       "      <th>reviewCount</th>\n",
       "      <th>brand</th>\n",
       "      <th>price</th>\n",
       "      <th>imageUrl</th>\n",
       "    </tr>\n",
       "  </thead>\n",
       "  <tbody>\n",
       "    <tr>\n",
       "      <th>4046</th>\n",
       "      <td>SH30 Replacement Heads for Philips Norelco Ele...</td>\n",
       "      <td>5</td>\n",
       "      <td>2</td>\n",
       "      <td>philips</td>\n",
       "      <td>20.97</td>\n",
       "      <td>https://i5.walmartimages.com/asr/16ea5f6b-94ae...</td>\n",
       "    </tr>\n",
       "    <tr>\n",
       "      <th>3382</th>\n",
       "      <td>OROFLUIDO - Beauty Elixir 3.3oz</td>\n",
       "      <td>5</td>\n",
       "      <td>1</td>\n",
       "      <td>orofluido</td>\n",
       "      <td>10.65</td>\n",
       "      <td>https://i5.walmartimages.com/asr/d2112146-1269...</td>\n",
       "    </tr>\n",
       "    <tr>\n",
       "      <th>3776</th>\n",
       "      <td>ProsourceFit Grippy Yoga Gloves, Non-Slip Fing...</td>\n",
       "      <td>5</td>\n",
       "      <td>4</td>\n",
       "      <td>prosourcefit</td>\n",
       "      <td>7.50</td>\n",
       "      <td>https://i5.walmartimages.com/asr/53203f1c-6a23...</td>\n",
       "    </tr>\n",
       "    <tr>\n",
       "      <th>3775</th>\n",
       "      <td>Proraso Green After Shave Lotion With Eucalypt...</td>\n",
       "      <td>5</td>\n",
       "      <td>2</td>\n",
       "      <td>proraso</td>\n",
       "      <td>14.50</td>\n",
       "      <td>https://i5.walmartimages.com/asr/94246b02-ca9f...</td>\n",
       "    </tr>\n",
       "    <tr>\n",
       "      <th>4812</th>\n",
       "      <td>Women Electric Facial Hair Removal Facial Epil...</td>\n",
       "      <td>5</td>\n",
       "      <td>1</td>\n",
       "      <td>moosoo</td>\n",
       "      <td>19.99</td>\n",
       "      <td>https://i5.walmartimages.com/asr/bace6920-3cbd...</td>\n",
       "    </tr>\n",
       "    <tr>\n",
       "      <th>357</th>\n",
       "      <td>5 Bottles PURE Plant Therapy Lymphatic Drainag...</td>\n",
       "      <td>5</td>\n",
       "      <td>1</td>\n",
       "      <td>unbrand</td>\n",
       "      <td>20.99</td>\n",
       "      <td>https://i5.walmartimages.com/asr/cfa266d0-977c...</td>\n",
       "    </tr>\n",
       "    <tr>\n",
       "      <th>1929</th>\n",
       "      <td>Gaiam Kids Yoga Mat Pink Zebra, 4mm</td>\n",
       "      <td>5</td>\n",
       "      <td>13</td>\n",
       "      <td>gaiam</td>\n",
       "      <td>14.28</td>\n",
       "      <td>https://i5.walmartimages.com/asr/1e3a766f-4185...</td>\n",
       "    </tr>\n",
       "    <tr>\n",
       "      <th>1017</th>\n",
       "      <td>COSRX Ultimate Moisturizing Honey Overnight Fa...</td>\n",
       "      <td>5</td>\n",
       "      <td>2</td>\n",
       "      <td>cosrx</td>\n",
       "      <td>12.15</td>\n",
       "      <td>https://i5.walmartimages.com/asr/5b70eab0-99eb...</td>\n",
       "    </tr>\n",
       "    <tr>\n",
       "      <th>4611</th>\n",
       "      <td>Twisted Curl Magnifier Styling Cream by Sebast...</td>\n",
       "      <td>5</td>\n",
       "      <td>5</td>\n",
       "      <td>sebastian, professional</td>\n",
       "      <td>13.99</td>\n",
       "      <td>https://i5.walmartimages.com/asr/9232a734-df57...</td>\n",
       "    </tr>\n",
       "    <tr>\n",
       "      <th>350</th>\n",
       "      <td>4 Pack Banana Boat Aloe After Sun Lotion 16oz ...</td>\n",
       "      <td>5</td>\n",
       "      <td>1</td>\n",
       "      <td>banana, boat</td>\n",
       "      <td>27.99</td>\n",
       "      <td>https://i5.walmartimages.com/asr/66cd6394-9c5f...</td>\n",
       "    </tr>\n",
       "  </tbody>\n",
       "</table>\n",
       "</div>"
      ],
      "text/plain": [
       "                                                   name  rating  reviewCount  \\\n",
       "4046  SH30 Replacement Heads for Philips Norelco Ele...       5            2   \n",
       "3382                    OROFLUIDO - Beauty Elixir 3.3oz       5            1   \n",
       "3776  ProsourceFit Grippy Yoga Gloves, Non-Slip Fing...       5            4   \n",
       "3775  Proraso Green After Shave Lotion With Eucalypt...       5            2   \n",
       "4812  Women Electric Facial Hair Removal Facial Epil...       5            1   \n",
       "357   5 Bottles PURE Plant Therapy Lymphatic Drainag...       5            1   \n",
       "1929                Gaiam Kids Yoga Mat Pink Zebra, 4mm       5           13   \n",
       "1017  COSRX Ultimate Moisturizing Honey Overnight Fa...       5            2   \n",
       "4611  Twisted Curl Magnifier Styling Cream by Sebast...       5            5   \n",
       "350   4 Pack Banana Boat Aloe After Sun Lotion 16oz ...       5            1   \n",
       "\n",
       "                        brand  price  \\\n",
       "4046                  philips  20.97   \n",
       "3382                orofluido  10.65   \n",
       "3776             prosourcefit   7.50   \n",
       "3775                  proraso  14.50   \n",
       "4812                   moosoo  19.99   \n",
       "357                   unbrand  20.99   \n",
       "1929                    gaiam  14.28   \n",
       "1017                    cosrx  12.15   \n",
       "4611  sebastian, professional  13.99   \n",
       "350              banana, boat  27.99   \n",
       "\n",
       "                                               imageUrl  \n",
       "4046  https://i5.walmartimages.com/asr/16ea5f6b-94ae...  \n",
       "3382  https://i5.walmartimages.com/asr/d2112146-1269...  \n",
       "3776  https://i5.walmartimages.com/asr/53203f1c-6a23...  \n",
       "3775  https://i5.walmartimages.com/asr/94246b02-ca9f...  \n",
       "4812  https://i5.walmartimages.com/asr/bace6920-3cbd...  \n",
       "357   https://i5.walmartimages.com/asr/cfa266d0-977c...  \n",
       "1929  https://i5.walmartimages.com/asr/1e3a766f-4185...  \n",
       "1017  https://i5.walmartimages.com/asr/5b70eab0-99eb...  \n",
       "4611  https://i5.walmartimages.com/asr/9232a734-df57...  \n",
       "350   https://i5.walmartimages.com/asr/66cd6394-9c5f...  "
      ]
     },
     "execution_count": 161,
     "metadata": {},
     "output_type": "execute_result"
    }
   ],
   "source": [
    "print(\"RAting Based Recommended product: Top Trending Products\")\n",
    "rating_based_recommendation=rating_based_recommendation[['name','rating','reviewCount','brand','price','imageUrl']]\n",
    "rating_based_recommendation"
   ]
  },
  {
   "cell_type": "code",
   "execution_count": 162,
   "id": "c9a477e6-7f66-42ce-a010-f7a4dc4dbd19",
   "metadata": {},
   "outputs": [],
   "source": [
    "rating_based_recommendation.to_csv(\"trending_product.csv\")"
   ]
  },
  {
   "cell_type": "code",
   "execution_count": 192,
   "id": "0b017514-ef9e-4ca2-ad49-679380cdebc6",
   "metadata": {},
   "outputs": [
    {
     "data": {
      "text/plain": [
       "'OPI Infinite Shine, Nail Lacquer Nail Polish, Bubble Bath'"
      ]
     },
     "execution_count": 192,
     "metadata": {},
     "output_type": "execute_result"
    }
   ],
   "source": [
    "df['name'][0]"
   ]
  },
  {
   "cell_type": "code",
   "execution_count": 164,
   "id": "6c408658-2570-4b7f-a9b7-43d6546986e0",
   "metadata": {},
   "outputs": [],
   "source": [
    "tfidf_vectorizer=TfidfVectorizer(stop_words='english')\n",
    "tfidf_tags_content=tfidf_vectorizer.fit_transform(df['tags'])"
   ]
  },
  {
   "cell_type": "code",
   "execution_count": 165,
   "id": "2e636603-0a42-4052-89b0-fe4f881b300a",
   "metadata": {},
   "outputs": [],
   "source": [
    "cosine_similar_content=cosine_similarity(tfidf_tags_content,tfidf_tags_content)"
   ]
  },
  {
   "cell_type": "code",
   "execution_count": 166,
   "id": "00cdc9e8-21f2-4344-982c-dbf8c97167f2",
   "metadata": {},
   "outputs": [],
   "source": [
    "test='OPI Infinite Shine, Nail Lacquer Nail Polish, Bubble Bath'\n",
    "index_item=df[df['name']==test].index[0]"
   ]
  },
  {
   "cell_type": "code",
   "execution_count": 167,
   "id": "273e1a8b-71e6-4d22-9135-30b37a67afb3",
   "metadata": {},
   "outputs": [],
   "source": [
    "similar_item=list(enumerate(cosine_similar_content[index_item]))"
   ]
  },
  {
   "cell_type": "code",
   "execution_count": 168,
   "id": "3ff3f058-f5db-463d-a545-28529d715297",
   "metadata": {},
   "outputs": [],
   "source": [
    "similar_items=sorted(similar_item, key=lambda x:x[1],reverse=True)[1:11]\n",
    "top_recomended_item=[x[0] for x in similar_items]"
   ]
  },
  {
   "cell_type": "code",
   "execution_count": 169,
   "id": "cad1f87d-dec6-419c-80b3-2f71a969773d",
   "metadata": {},
   "outputs": [
    {
     "data": {
      "text/html": [
       "<div>\n",
       "<style scoped>\n",
       "    .dataframe tbody tr th:only-of-type {\n",
       "        vertical-align: middle;\n",
       "    }\n",
       "\n",
       "    .dataframe tbody tr th {\n",
       "        vertical-align: top;\n",
       "    }\n",
       "\n",
       "    .dataframe thead th {\n",
       "        text-align: right;\n",
       "    }\n",
       "</style>\n",
       "<table border=\"1\" class=\"dataframe\">\n",
       "  <thead>\n",
       "    <tr style=\"text-align: right;\">\n",
       "      <th></th>\n",
       "      <th>name</th>\n",
       "      <th>reviewCount</th>\n",
       "      <th>brand</th>\n",
       "    </tr>\n",
       "  </thead>\n",
       "  <tbody>\n",
       "    <tr>\n",
       "      <th>156</th>\n",
       "      <td>OPI Nail Lacquer Polish .5oz/15mL - This Gown ...</td>\n",
       "      <td>0.0</td>\n",
       "      <td>opi</td>\n",
       "    </tr>\n",
       "    <tr>\n",
       "      <th>184</th>\n",
       "      <td>OPI Nail Gel Polish GelColor .5oz/15mL 3 CT Co...</td>\n",
       "      <td>0.0</td>\n",
       "      <td>opi</td>\n",
       "    </tr>\n",
       "    <tr>\n",
       "      <th>205</th>\n",
       "      <td>OPI Nail Lacquer - Dont Bossa Nova Me Around -...</td>\n",
       "      <td>0.0</td>\n",
       "      <td>opi</td>\n",
       "    </tr>\n",
       "    <tr>\n",
       "      <th>237</th>\n",
       "      <td>OPI Infinite Shine 2 Polish - ISL P33 - Alpaca...</td>\n",
       "      <td>5.0</td>\n",
       "      <td>opi</td>\n",
       "    </tr>\n",
       "    <tr>\n",
       "      <th>325</th>\n",
       "      <td>OPI Gel Polish Fall 2019 Scotland Collection G...</td>\n",
       "      <td>1.0</td>\n",
       "      <td>opi</td>\n",
       "    </tr>\n",
       "    <tr>\n",
       "      <th>375</th>\n",
       "      <td>OPI Nail Gel Polish GelColor .5oz/15mL 3 CT Co...</td>\n",
       "      <td>1.0</td>\n",
       "      <td>opi</td>\n",
       "    </tr>\n",
       "    <tr>\n",
       "      <th>402</th>\n",
       "      <td>OPI Nail Polish, Strawberry Margarita, 0.5 Fl Oz</td>\n",
       "      <td>57.0</td>\n",
       "      <td>opi</td>\n",
       "    </tr>\n",
       "    <tr>\n",
       "      <th>706</th>\n",
       "      <td>OPI Nail Gel Polish GelColor .5oz/15mL 3 CT Co...</td>\n",
       "      <td>1.0</td>\n",
       "      <td>opi</td>\n",
       "    </tr>\n",
       "    <tr>\n",
       "      <th>886</th>\n",
       "      <td>OPI- Nail Lacquer-GelColor - &amp;quotLiv&amp;quotin t...</td>\n",
       "      <td>0.0</td>\n",
       "      <td>opi</td>\n",
       "    </tr>\n",
       "    <tr>\n",
       "      <th>1042</th>\n",
       "      <td>OPI GelColor Gel Nail Polish, Dulce De Leche, ...</td>\n",
       "      <td>1.0</td>\n",
       "      <td>opi</td>\n",
       "    </tr>\n",
       "  </tbody>\n",
       "</table>\n",
       "</div>"
      ],
      "text/plain": [
       "                                                   name  reviewCount brand\n",
       "156   OPI Nail Lacquer Polish .5oz/15mL - This Gown ...          0.0   opi\n",
       "184   OPI Nail Gel Polish GelColor .5oz/15mL 3 CT Co...          0.0   opi\n",
       "205   OPI Nail Lacquer - Dont Bossa Nova Me Around -...          0.0   opi\n",
       "237   OPI Infinite Shine 2 Polish - ISL P33 - Alpaca...          5.0   opi\n",
       "325   OPI Gel Polish Fall 2019 Scotland Collection G...          1.0   opi\n",
       "375   OPI Nail Gel Polish GelColor .5oz/15mL 3 CT Co...          1.0   opi\n",
       "402    OPI Nail Polish, Strawberry Margarita, 0.5 Fl Oz         57.0   opi\n",
       "706   OPI Nail Gel Polish GelColor .5oz/15mL 3 CT Co...          1.0   opi\n",
       "886   OPI- Nail Lacquer-GelColor - &quotLiv&quotin t...          0.0   opi\n",
       "1042  OPI GelColor Gel Nail Polish, Dulce De Leche, ...          1.0   opi"
      ]
     },
     "execution_count": 169,
     "metadata": {},
     "output_type": "execute_result"
    }
   ],
   "source": [
    "df.iloc[top_recomended_item][['name','reviewCount','brand']]"
   ]
  },
  {
   "cell_type": "code",
   "execution_count": 170,
   "id": "e3584e74-c3a6-41a4-95bc-673a0cc3fcc4",
   "metadata": {},
   "outputs": [],
   "source": [
    "def content_based_recommendation(data,item_name,topn=10):\n",
    "    if item_name not in data['name'].values:\n",
    "        print(f\"Item '{item_name}' not found in the available data\")\n",
    "        return pd.DataFrame()\n",
    "\n",
    "    tfidf_vectorizer=TfidfVectorizer(stop_words='english')\n",
    "    tfidf_tags_content=tfidf_vectorizer.fit_transform(df['tags'])\n",
    "    cosine_similar_content=cosine_similarity(tfidf_tags_content,tfidf_tags_content)\n",
    "    index_item=data[data['name']==item_name].index[0]\n",
    "    similar_item=list(enumerate(cosine_similar_content[index_item]))\n",
    "    similar_items=sorted(similar_item, key=lambda x:x[1],reverse=True)[1:topn+1]\n",
    "    top_recomended_item=[x[0] for x in similar_items]\n",
    "    recomended_items_details=data.iloc[top_recomended_item][['name','reviewCount','brand','price','imageUrl','rating']]\n",
    "    return recomended_items_details"
   ]
  },
  {
   "cell_type": "code",
   "execution_count": 171,
   "id": "7dcc4f52-9be9-44f9-8dd6-298fe5851ef5",
   "metadata": {},
   "outputs": [
    {
     "data": {
      "text/html": [
       "<div>\n",
       "<style scoped>\n",
       "    .dataframe tbody tr th:only-of-type {\n",
       "        vertical-align: middle;\n",
       "    }\n",
       "\n",
       "    .dataframe tbody tr th {\n",
       "        vertical-align: top;\n",
       "    }\n",
       "\n",
       "    .dataframe thead th {\n",
       "        text-align: right;\n",
       "    }\n",
       "</style>\n",
       "<table border=\"1\" class=\"dataframe\">\n",
       "  <thead>\n",
       "    <tr style=\"text-align: right;\">\n",
       "      <th></th>\n",
       "      <th>name</th>\n",
       "      <th>reviewCount</th>\n",
       "      <th>brand</th>\n",
       "      <th>price</th>\n",
       "      <th>imageUrl</th>\n",
       "      <th>rating</th>\n",
       "    </tr>\n",
       "  </thead>\n",
       "  <tbody>\n",
       "    <tr>\n",
       "      <th>3406</th>\n",
       "      <td>Kokie Professional Matte Lipstick, Firecracker...</td>\n",
       "      <td>0.0</td>\n",
       "      <td>kokie, cosmetics</td>\n",
       "      <td>5.16</td>\n",
       "      <td>https://i5.walmartimages.com/asr/8312221b-ed22...</td>\n",
       "      <td>0.0</td>\n",
       "    </tr>\n",
       "    <tr>\n",
       "      <th>546</th>\n",
       "      <td>Kokie Professional Matte Lipstick, Kiss Me, 0....</td>\n",
       "      <td>0.0</td>\n",
       "      <td>kokie, cosmetics</td>\n",
       "      <td>9.20</td>\n",
       "      <td>https://i5.walmartimages.com/asr/27dd82a2-2b9c...</td>\n",
       "      <td>0.0</td>\n",
       "    </tr>\n",
       "    <tr>\n",
       "      <th>2406</th>\n",
       "      <td>L.A. Colors Matte Lipstick, Tender Matte</td>\n",
       "      <td>3.0</td>\n",
       "      <td>colors</td>\n",
       "      <td>5.24</td>\n",
       "      <td>https://i5.walmartimages.com/asr/271264fb-e8c3...</td>\n",
       "      <td>3.7</td>\n",
       "    </tr>\n",
       "    <tr>\n",
       "      <th>4050</th>\n",
       "      <td>Kokie Professional Lip Poudre Liquid Matte Liq...</td>\n",
       "      <td>7.0</td>\n",
       "      <td>kokie, cosmetics</td>\n",
       "      <td>11.99</td>\n",
       "      <td>https://i5.walmartimages.com/asr/fdd7498c-319f...</td>\n",
       "      <td>3.4</td>\n",
       "    </tr>\n",
       "    <tr>\n",
       "      <th>4084</th>\n",
       "      <td>e.l.f. Mad for Matte 4 Piece Lip Color Set</td>\n",
       "      <td>0.0</td>\n",
       "      <td>cosmetics</td>\n",
       "      <td>18.22</td>\n",
       "      <td>https://i5.walmartimages.com/asr/e2d30304-edc9...</td>\n",
       "      <td>0.0</td>\n",
       "    </tr>\n",
       "    <tr>\n",
       "      <th>1559</th>\n",
       "      <td>LOreal Paris Colour Riche Matte Lip Liner, Mat...</td>\n",
       "      <td>495.0</td>\n",
       "      <td>paris</td>\n",
       "      <td>6.97</td>\n",
       "      <td>https://i5.walmartimages.com/asr/baf97085-7231...</td>\n",
       "      <td>4.4</td>\n",
       "    </tr>\n",
       "    <tr>\n",
       "      <th>2873</th>\n",
       "      <td>Kokie Professional Lip Poudre Liquid Matte Liq...</td>\n",
       "      <td>7.0</td>\n",
       "      <td>kokie, cosmetics</td>\n",
       "      <td>10.48</td>\n",
       "      <td>https://i5.walmartimages.com/asr/31c99d9b-ea11...</td>\n",
       "      <td>3.4</td>\n",
       "    </tr>\n",
       "    <tr>\n",
       "      <th>3023</th>\n",
       "      <td>Be Matte Lipstick - Pink</td>\n",
       "      <td>2.0</td>\n",
       "      <td>city, color</td>\n",
       "      <td>3.17</td>\n",
       "      <td>https://i5.walmartimages.com/asr/4425a13e-085f...</td>\n",
       "      <td>3.0</td>\n",
       "    </tr>\n",
       "  </tbody>\n",
       "</table>\n",
       "</div>"
      ],
      "text/plain": [
       "                                                   name  reviewCount  \\\n",
       "3406  Kokie Professional Matte Lipstick, Firecracker...          0.0   \n",
       "546   Kokie Professional Matte Lipstick, Kiss Me, 0....          0.0   \n",
       "2406           L.A. Colors Matte Lipstick, Tender Matte          3.0   \n",
       "4050  Kokie Professional Lip Poudre Liquid Matte Liq...          7.0   \n",
       "4084         e.l.f. Mad for Matte 4 Piece Lip Color Set          0.0   \n",
       "1559  LOreal Paris Colour Riche Matte Lip Liner, Mat...        495.0   \n",
       "2873  Kokie Professional Lip Poudre Liquid Matte Liq...          7.0   \n",
       "3023                           Be Matte Lipstick - Pink          2.0   \n",
       "\n",
       "                 brand  price  \\\n",
       "3406  kokie, cosmetics   5.16   \n",
       "546   kokie, cosmetics   9.20   \n",
       "2406            colors   5.24   \n",
       "4050  kokie, cosmetics  11.99   \n",
       "4084         cosmetics  18.22   \n",
       "1559             paris   6.97   \n",
       "2873  kokie, cosmetics  10.48   \n",
       "3023       city, color   3.17   \n",
       "\n",
       "                                               imageUrl  rating  \n",
       "3406  https://i5.walmartimages.com/asr/8312221b-ed22...     0.0  \n",
       "546   https://i5.walmartimages.com/asr/27dd82a2-2b9c...     0.0  \n",
       "2406  https://i5.walmartimages.com/asr/271264fb-e8c3...     3.7  \n",
       "4050  https://i5.walmartimages.com/asr/fdd7498c-319f...     3.4  \n",
       "4084  https://i5.walmartimages.com/asr/e2d30304-edc9...     0.0  \n",
       "1559  https://i5.walmartimages.com/asr/baf97085-7231...     4.4  \n",
       "2873  https://i5.walmartimages.com/asr/31c99d9b-ea11...     3.4  \n",
       "3023  https://i5.walmartimages.com/asr/4425a13e-085f...     3.0  "
      ]
     },
     "execution_count": 171,
     "metadata": {},
     "output_type": "execute_result"
    }
   ],
   "source": [
    "test='Kokie Professional Matte Lipstick, Hot Berry, 0.14 fl oz'\n",
    "content_based_recommendation(df,test,8)"
   ]
  },
  {
   "cell_type": "code",
   "execution_count": 172,
   "id": "5a88c0f1-f5b4-459a-83b9-764a1fdc6907",
   "metadata": {},
   "outputs": [
    {
     "data": {
      "text/plain": [
       "'Kokie Professional Matte Lipstick, Hot Berry, 0.14 fl oz'"
      ]
     },
     "execution_count": 172,
     "metadata": {},
     "output_type": "execute_result"
    }
   ],
   "source": [
    "df['name'][3]"
   ]
  },
  {
   "cell_type": "code",
   "execution_count": null,
   "id": "04d35398-1aaf-434b-956a-a562efdeeeb5",
   "metadata": {},
   "outputs": [],
   "source": []
  },
  {
   "cell_type": "code",
   "execution_count": null,
   "id": "7567b2f0-2e36-4a34-a719-2ada7bda86ac",
   "metadata": {},
   "outputs": [],
   "source": []
  },
  {
   "cell_type": "code",
   "execution_count": 173,
   "id": "2da617a3-b982-4547-adb8-c19395740556",
   "metadata": {},
   "outputs": [],
   "source": [
    "# Collaborative filtering(User item similarity)"
   ]
  },
  {
   "cell_type": "code",
   "execution_count": 174,
   "id": "c08b1870-102f-4a0e-8aa0-a8145f288618",
   "metadata": {},
   "outputs": [],
   "source": [
    "user_product_matrix=df.pivot_table(index=\"id\", columns=\"prodId\", values=\"rating\", aggfunc='mean').fillna(0).astype(int)"
   ]
  },
  {
   "cell_type": "code",
   "execution_count": 175,
   "id": "5064363f-de72-441b-85c2-4d5c7a37cf47",
   "metadata": {},
   "outputs": [],
   "source": [
    "user_similarity=cosine_similarity(user_product_matrix)"
   ]
  },
  {
   "cell_type": "code",
   "execution_count": 176,
   "id": "2c991789-3d3f-4ed3-b0b3-d03215320716",
   "metadata": {},
   "outputs": [],
   "source": [
    "target_user_id=4\n",
    "index_target_user=user_product_matrix.index.get_loc(target_user_id)"
   ]
  },
  {
   "cell_type": "code",
   "execution_count": 177,
   "id": "e6a1402c-08d1-4d77-9313-36acf242d6f6",
   "metadata": {},
   "outputs": [],
   "source": [
    "similar_user=user_similarity[index_target_user]\n",
    "similar_user_index=similar_user.argsort()[::-1][1:]"
   ]
  },
  {
   "cell_type": "code",
   "execution_count": 178,
   "id": "b4367f45-fb1b-4577-829a-2cd272fe1e9a",
   "metadata": {},
   "outputs": [],
   "source": [
    "recommended_item=[]\n",
    "for user_index in similar_user_index:\n",
    "    rated_by_similar_user=user_product_matrix.iloc[user_index]\n",
    "    not_rated_by_target_user=(rated_by_similar_user==0) & (user_product_matrix.iloc[index_target_user]==0)\n",
    "    recommended_item.extend(user_product_matrix.columns[not_rated_by_target_user][:10])\n",
    "\n",
    "\n",
    "details_recomended_item=df[df['prodId'].isin(recommended_item)][['name','reviewCount','brand','price','imageUrl','rating']]"
   ]
  },
  {
   "cell_type": "code",
   "execution_count": 179,
   "id": "cd3c053f-2200-4a07-a56a-faf749d29aa8",
   "metadata": {},
   "outputs": [
    {
     "data": {
      "text/html": [
       "<div>\n",
       "<style scoped>\n",
       "    .dataframe tbody tr th:only-of-type {\n",
       "        vertical-align: middle;\n",
       "    }\n",
       "\n",
       "    .dataframe tbody tr th {\n",
       "        vertical-align: top;\n",
       "    }\n",
       "\n",
       "    .dataframe thead th {\n",
       "        text-align: right;\n",
       "    }\n",
       "</style>\n",
       "<table border=\"1\" class=\"dataframe\">\n",
       "  <thead>\n",
       "    <tr style=\"text-align: right;\">\n",
       "      <th></th>\n",
       "      <th>name</th>\n",
       "      <th>reviewCount</th>\n",
       "      <th>brand</th>\n",
       "      <th>price</th>\n",
       "      <th>imageUrl</th>\n",
       "      <th>rating</th>\n",
       "    </tr>\n",
       "  </thead>\n",
       "  <tbody>\n",
       "    <tr>\n",
       "      <th>15</th>\n",
       "      <td>Clairol Natural Instincts Demi-Permanent Hair ...</td>\n",
       "      <td>2935.0</td>\n",
       "      <td>clairol</td>\n",
       "      <td>6.99</td>\n",
       "      <td>https://i5.walmartimages.com/asr/00a6e54a-e431...</td>\n",
       "      <td>3.7</td>\n",
       "    </tr>\n",
       "    <tr>\n",
       "      <th>33</th>\n",
       "      <td>DenTek Kids Fun Flossers, Removes Food &amp; Plaqu...</td>\n",
       "      <td>3.0</td>\n",
       "      <td>dentek</td>\n",
       "      <td>8.99</td>\n",
       "      <td>https://i5.walmartimages.com/asr/de6e52eb-6e18...</td>\n",
       "      <td>0.0</td>\n",
       "    </tr>\n",
       "    <tr>\n",
       "      <th>61</th>\n",
       "      <td>COVERGIRL Exhibitionist Cream Lipstick, 395 Da...</td>\n",
       "      <td>713.0</td>\n",
       "      <td>covergirl</td>\n",
       "      <td>9.85</td>\n",
       "      <td>https://i5.walmartimages.com/asr/95076ec0-ffbd...</td>\n",
       "      <td>4.3</td>\n",
       "    </tr>\n",
       "    <tr>\n",
       "      <th>64</th>\n",
       "      <td>Neutrogena SkinClearing Oil-Free Liquid Founda...</td>\n",
       "      <td>741.0</td>\n",
       "      <td>neutrogena</td>\n",
       "      <td>11.14</td>\n",
       "      <td>https://i5.walmartimages.com/asr/fd4d78d8-310a...</td>\n",
       "      <td>4.2</td>\n",
       "    </tr>\n",
       "    <tr>\n",
       "      <th>69</th>\n",
       "      <td>Design Essentials Natural Coconut &amp; Monoi Curl...</td>\n",
       "      <td>1.0</td>\n",
       "      <td>design, essentials</td>\n",
       "      <td>10.95</td>\n",
       "      <td>https://i5.walmartimages.com/asr/ff2dba1d-0c02...</td>\n",
       "      <td>5.0</td>\n",
       "    </tr>\n",
       "    <tr>\n",
       "      <th>...</th>\n",
       "      <td>...</td>\n",
       "      <td>...</td>\n",
       "      <td>...</td>\n",
       "      <td>...</td>\n",
       "      <td>...</td>\n",
       "      <td>...</td>\n",
       "    </tr>\n",
       "    <tr>\n",
       "      <th>4983</th>\n",
       "      <td>Covidien Simplicity Underpad - 7136CS - 23&amp;quo...</td>\n",
       "      <td>0.0</td>\n",
       "      <td>covidien</td>\n",
       "      <td>29.26</td>\n",
       "      <td>https://i5.walmartimages.com/asr/2b5ce91e-7b16...</td>\n",
       "      <td>0.0</td>\n",
       "    </tr>\n",
       "    <tr>\n",
       "      <th>4987</th>\n",
       "      <td>2oz - Artizen Breathe Blend Essential Oil (100...</td>\n",
       "      <td>1.0</td>\n",
       "      <td>artizen</td>\n",
       "      <td>16.99</td>\n",
       "      <td>https://i5.walmartimages.com/asr/99ddd317-013e...</td>\n",
       "      <td>5.0</td>\n",
       "    </tr>\n",
       "    <tr>\n",
       "      <th>4990</th>\n",
       "      <td>2 Pack - Crest 3D White Brilliance Fluoride An...</td>\n",
       "      <td>43.0</td>\n",
       "      <td>crest</td>\n",
       "      <td>19.96</td>\n",
       "      <td>https://i5.walmartimages.com/asr/5758fbaf-5515...</td>\n",
       "      <td>4.7</td>\n",
       "    </tr>\n",
       "    <tr>\n",
       "      <th>4996</th>\n",
       "      <td>Garnier Nutrisse Nourishing Hair Color Creme (...</td>\n",
       "      <td>7484.0</td>\n",
       "      <td>garnier</td>\n",
       "      <td>4.44</td>\n",
       "      <td>https://i5.walmartimages.com/asr/24d7a837-51f8...</td>\n",
       "      <td>3.9</td>\n",
       "    </tr>\n",
       "    <tr>\n",
       "      <th>4999</th>\n",
       "      <td>Foundation</td>\n",
       "      <td>438.0</td>\n",
       "      <td>covergirl</td>\n",
       "      <td>17.94</td>\n",
       "      <td>https://i5.walmartimages.com/asr/a76122fd-322a...</td>\n",
       "      <td>0.0</td>\n",
       "    </tr>\n",
       "  </tbody>\n",
       "</table>\n",
       "<p>547 rows × 6 columns</p>\n",
       "</div>"
      ],
      "text/plain": [
       "                                                   name  reviewCount  \\\n",
       "15    Clairol Natural Instincts Demi-Permanent Hair ...       2935.0   \n",
       "33    DenTek Kids Fun Flossers, Removes Food & Plaqu...          3.0   \n",
       "61    COVERGIRL Exhibitionist Cream Lipstick, 395 Da...        713.0   \n",
       "64    Neutrogena SkinClearing Oil-Free Liquid Founda...        741.0   \n",
       "69    Design Essentials Natural Coconut & Monoi Curl...          1.0   \n",
       "...                                                 ...          ...   \n",
       "4983  Covidien Simplicity Underpad - 7136CS - 23&quo...          0.0   \n",
       "4987  2oz - Artizen Breathe Blend Essential Oil (100...          1.0   \n",
       "4990  2 Pack - Crest 3D White Brilliance Fluoride An...         43.0   \n",
       "4996  Garnier Nutrisse Nourishing Hair Color Creme (...       7484.0   \n",
       "4999                                         Foundation        438.0   \n",
       "\n",
       "                   brand  price  \\\n",
       "15               clairol   6.99   \n",
       "33                dentek   8.99   \n",
       "61             covergirl   9.85   \n",
       "64            neutrogena  11.14   \n",
       "69    design, essentials  10.95   \n",
       "...                  ...    ...   \n",
       "4983            covidien  29.26   \n",
       "4987             artizen  16.99   \n",
       "4990               crest  19.96   \n",
       "4996             garnier   4.44   \n",
       "4999           covergirl  17.94   \n",
       "\n",
       "                                               imageUrl  rating  \n",
       "15    https://i5.walmartimages.com/asr/00a6e54a-e431...     3.7  \n",
       "33    https://i5.walmartimages.com/asr/de6e52eb-6e18...     0.0  \n",
       "61    https://i5.walmartimages.com/asr/95076ec0-ffbd...     4.3  \n",
       "64    https://i5.walmartimages.com/asr/fd4d78d8-310a...     4.2  \n",
       "69    https://i5.walmartimages.com/asr/ff2dba1d-0c02...     5.0  \n",
       "...                                                 ...     ...  \n",
       "4983  https://i5.walmartimages.com/asr/2b5ce91e-7b16...     0.0  \n",
       "4987  https://i5.walmartimages.com/asr/99ddd317-013e...     5.0  \n",
       "4990  https://i5.walmartimages.com/asr/5758fbaf-5515...     4.7  \n",
       "4996  https://i5.walmartimages.com/asr/24d7a837-51f8...     3.9  \n",
       "4999  https://i5.walmartimages.com/asr/a76122fd-322a...     0.0  \n",
       "\n",
       "[547 rows x 6 columns]"
      ]
     },
     "execution_count": 179,
     "metadata": {},
     "output_type": "execute_result"
    }
   ],
   "source": [
    "details_recomended_item"
   ]
  },
  {
   "cell_type": "code",
   "execution_count": 229,
   "id": "79f49def-8167-419a-85e0-d579be1f4369",
   "metadata": {},
   "outputs": [],
   "source": [
    "def collaborative_filtering_recommendations(data, target_user_id, topn=10):\n",
    "    user_product_matrix = data.pivot_table(index=\"id\", columns=\"prodId\", values=\"rating\", aggfunc='mean').fillna(0).astype(int)\n",
    "    user_similarity = cosine_similarity(user_product_matrix)\n",
    "    index_target_user = user_product_matrix.index.get_loc(target_user_id)\n",
    "    similar_user = user_similarity[index_target_user]\n",
    "    similar_user_index = similar_user.argsort()[::-1][1:]\n",
    "    \n",
    "    recommended_items = set()\n",
    "    for user_index in similar_user_index:\n",
    "        if len(recommended_items) >= topn:\n",
    "            break\n",
    "        rated_by_similar_user = user_product_matrix.iloc[user_index]\n",
    "        not_rated_by_target_user = (rated_by_similar_user > 0) & (user_product_matrix.iloc[index_target_user] == 0)\n",
    "        recommended_items.update(user_product_matrix.columns[not_rated_by_target_user][:topn - len(recommended_items)])\n",
    "    \n",
    "    details_recommended_items = data[data['prodId'].isin(recommended_items)][['name', 'reviewCount', 'brand', 'imageUrl', 'rating']]\n",
    "    #details_recommended_items=details_recommended_items[::-1]\n",
    "    return details_recommended_items[:topn]\n",
    "\n",
    "# Example usage:\n",
    "# recommendations = collaborative_filtering_recommendations(df, target_user_id=1, topn=10)\n"
   ]
  },
  {
   "cell_type": "code",
   "execution_count": 181,
   "id": "cfa30292-eb93-40dd-a896-a427918b6fec",
   "metadata": {},
   "outputs": [
    {
     "name": "stdout",
     "output_type": "stream",
     "text": [
      "Top 3 recommendations for user 4: \n"
     ]
    },
    {
     "data": {
      "text/html": [
       "<div>\n",
       "<style scoped>\n",
       "    .dataframe tbody tr th:only-of-type {\n",
       "        vertical-align: middle;\n",
       "    }\n",
       "\n",
       "    .dataframe tbody tr th {\n",
       "        vertical-align: top;\n",
       "    }\n",
       "\n",
       "    .dataframe thead th {\n",
       "        text-align: right;\n",
       "    }\n",
       "</style>\n",
       "<table border=\"1\" class=\"dataframe\">\n",
       "  <thead>\n",
       "    <tr style=\"text-align: right;\">\n",
       "      <th></th>\n",
       "      <th>name</th>\n",
       "      <th>reviewCount</th>\n",
       "      <th>brand</th>\n",
       "      <th>imageUrl</th>\n",
       "      <th>rating</th>\n",
       "    </tr>\n",
       "  </thead>\n",
       "  <tbody>\n",
       "    <tr>\n",
       "      <th>33</th>\n",
       "      <td>DenTek Kids Fun Flossers, Removes Food &amp; Plaqu...</td>\n",
       "      <td>3.0</td>\n",
       "      <td>dentek</td>\n",
       "      <td>https://i5.walmartimages.com/asr/de6e52eb-6e18...</td>\n",
       "      <td>0.0</td>\n",
       "    </tr>\n",
       "    <tr>\n",
       "      <th>144</th>\n",
       "      <td>Covidien Curity Maternity Pad Heavy 4.33&amp;quot ...</td>\n",
       "      <td>0.0</td>\n",
       "      <td>covidien</td>\n",
       "      <td>https://i5.walmartimages.com/asr/e4e38217-ed43...</td>\n",
       "      <td>0.0</td>\n",
       "    </tr>\n",
       "    <tr>\n",
       "      <th>152</th>\n",
       "      <td>(3 Pack) Tadin Boldo Herbal Tea (24 Teabags) /...</td>\n",
       "      <td>0.0</td>\n",
       "      <td>tadin</td>\n",
       "      <td>https://i5.walmartimages.com/asr/074ad2ee-562b...</td>\n",
       "      <td>0.0</td>\n",
       "    </tr>\n",
       "  </tbody>\n",
       "</table>\n",
       "</div>"
      ],
      "text/plain": [
       "                                                  name  reviewCount     brand  \\\n",
       "33   DenTek Kids Fun Flossers, Removes Food & Plaqu...          3.0    dentek   \n",
       "144  Covidien Curity Maternity Pad Heavy 4.33&quot ...          0.0  covidien   \n",
       "152  (3 Pack) Tadin Boldo Herbal Tea (24 Teabags) /...          0.0     tadin   \n",
       "\n",
       "                                              imageUrl  rating  \n",
       "33   https://i5.walmartimages.com/asr/de6e52eb-6e18...     0.0  \n",
       "144  https://i5.walmartimages.com/asr/e4e38217-ed43...     0.0  \n",
       "152  https://i5.walmartimages.com/asr/074ad2ee-562b...     0.0  "
      ]
     },
     "execution_count": 181,
     "metadata": {},
     "output_type": "execute_result"
    }
   ],
   "source": [
    "target_user_id=4\n",
    "topn=3\n",
    "collaborative_recomendation=collaborative_filtering_recommendations(df,target_user_id,topn)\n",
    "print(f\"Top {topn} recommendations for user {target_user_id}: \")\n",
    "collaborative_recomendation"
   ]
  },
  {
   "cell_type": "code",
   "execution_count": 182,
   "id": "14599667-dc78-43bd-84bd-0c703293a845",
   "metadata": {},
   "outputs": [
    {
     "name": "stdout",
     "output_type": "stream",
     "text": [
      "Top 3 recommendations for user 4: \n"
     ]
    },
    {
     "data": {
      "text/html": [
       "<div>\n",
       "<style scoped>\n",
       "    .dataframe tbody tr th:only-of-type {\n",
       "        vertical-align: middle;\n",
       "    }\n",
       "\n",
       "    .dataframe tbody tr th {\n",
       "        vertical-align: top;\n",
       "    }\n",
       "\n",
       "    .dataframe thead th {\n",
       "        text-align: right;\n",
       "    }\n",
       "</style>\n",
       "<table border=\"1\" class=\"dataframe\">\n",
       "  <thead>\n",
       "    <tr style=\"text-align: right;\">\n",
       "      <th></th>\n",
       "      <th>name</th>\n",
       "      <th>reviewCount</th>\n",
       "      <th>brand</th>\n",
       "      <th>imageUrl</th>\n",
       "      <th>rating</th>\n",
       "    </tr>\n",
       "  </thead>\n",
       "  <tbody>\n",
       "    <tr>\n",
       "      <th>33</th>\n",
       "      <td>DenTek Kids Fun Flossers, Removes Food &amp; Plaqu...</td>\n",
       "      <td>3.0</td>\n",
       "      <td>dentek</td>\n",
       "      <td>https://i5.walmartimages.com/asr/de6e52eb-6e18...</td>\n",
       "      <td>0.0</td>\n",
       "    </tr>\n",
       "    <tr>\n",
       "      <th>144</th>\n",
       "      <td>Covidien Curity Maternity Pad Heavy 4.33&amp;quot ...</td>\n",
       "      <td>0.0</td>\n",
       "      <td>covidien</td>\n",
       "      <td>https://i5.walmartimages.com/asr/e4e38217-ed43...</td>\n",
       "      <td>0.0</td>\n",
       "    </tr>\n",
       "    <tr>\n",
       "      <th>152</th>\n",
       "      <td>(3 Pack) Tadin Boldo Herbal Tea (24 Teabags) /...</td>\n",
       "      <td>0.0</td>\n",
       "      <td>tadin</td>\n",
       "      <td>https://i5.walmartimages.com/asr/074ad2ee-562b...</td>\n",
       "      <td>0.0</td>\n",
       "    </tr>\n",
       "  </tbody>\n",
       "</table>\n",
       "</div>"
      ],
      "text/plain": [
       "                                                  name  reviewCount     brand  \\\n",
       "33   DenTek Kids Fun Flossers, Removes Food & Plaqu...          3.0    dentek   \n",
       "144  Covidien Curity Maternity Pad Heavy 4.33&quot ...          0.0  covidien   \n",
       "152  (3 Pack) Tadin Boldo Herbal Tea (24 Teabags) /...          0.0     tadin   \n",
       "\n",
       "                                              imageUrl  rating  \n",
       "33   https://i5.walmartimages.com/asr/de6e52eb-6e18...     0.0  \n",
       "144  https://i5.walmartimages.com/asr/e4e38217-ed43...     0.0  \n",
       "152  https://i5.walmartimages.com/asr/074ad2ee-562b...     0.0  "
      ]
     },
     "execution_count": 182,
     "metadata": {},
     "output_type": "execute_result"
    }
   ],
   "source": [
    "target_user_id=4\n",
    "topn=3\n",
    "collaborative_recomendation=collaborative_filtering_recommendations(df,target_user_id,topn)\n",
    "print(f\"Top {topn} recommendations for user {target_user_id}: \")\n",
    "collaborative_recomendation"
   ]
  },
  {
   "cell_type": "code",
   "execution_count": null,
   "id": "2c6564f3-deab-43c2-b904-0ae775b63dcc",
   "metadata": {},
   "outputs": [],
   "source": []
  },
  {
   "cell_type": "code",
   "execution_count": null,
   "id": "fc1d12e5-0102-4d69-92aa-f6a5367e8187",
   "metadata": {},
   "outputs": [],
   "source": []
  },
  {
   "cell_type": "code",
   "execution_count": 185,
   "id": "91709909-2545-45f5-91ad-b8a2a3b35bc8",
   "metadata": {},
   "outputs": [],
   "source": [
    "# Hybrid recomendation"
   ]
  },
  {
   "cell_type": "code",
   "execution_count": 186,
   "id": "8995502d-6d0f-42c1-bb29-7448fb2846c3",
   "metadata": {},
   "outputs": [],
   "source": [
    "def hybrid_recommendation(data, target_user_id, item_name, topn=10):\n",
    "    content_recomendation=content_based_recommendation(data,item_name,topn)\n",
    "\n",
    "    collaborating_recommendation=collaborating_filtering_recommendations(data, target_user_id, topn)\n",
    "\n",
    "    hybrid_rec=pd.concat([content_recomendation, collaborating_recommendation]).drop_duplicates()\n",
    "\n",
    "    return hybrid_rec.head(10)\n",
    "    "
   ]
  },
  {
   "cell_type": "code",
   "execution_count": 187,
   "id": "c9e7c2b6-b084-4d3d-80bc-bd3afaed9980",
   "metadata": {},
   "outputs": [
    {
     "name": "stdout",
     "output_type": "stream",
     "text": [
      "Top 10 Hybrid recommendations for user 4 and Item Kokie Professional Matte Lipstick, Hot Berry, 0.14 fl oz: \n"
     ]
    },
    {
     "data": {
      "text/html": [
       "<div>\n",
       "<style scoped>\n",
       "    .dataframe tbody tr th:only-of-type {\n",
       "        vertical-align: middle;\n",
       "    }\n",
       "\n",
       "    .dataframe tbody tr th {\n",
       "        vertical-align: top;\n",
       "    }\n",
       "\n",
       "    .dataframe thead th {\n",
       "        text-align: right;\n",
       "    }\n",
       "</style>\n",
       "<table border=\"1\" class=\"dataframe\">\n",
       "  <thead>\n",
       "    <tr style=\"text-align: right;\">\n",
       "      <th></th>\n",
       "      <th>name</th>\n",
       "      <th>reviewCount</th>\n",
       "      <th>brand</th>\n",
       "      <th>price</th>\n",
       "      <th>imageUrl</th>\n",
       "      <th>rating</th>\n",
       "    </tr>\n",
       "  </thead>\n",
       "  <tbody>\n",
       "    <tr>\n",
       "      <th>3406</th>\n",
       "      <td>Kokie Professional Matte Lipstick, Firecracker...</td>\n",
       "      <td>0.0</td>\n",
       "      <td>kokie, cosmetics</td>\n",
       "      <td>5.16</td>\n",
       "      <td>https://i5.walmartimages.com/asr/8312221b-ed22...</td>\n",
       "      <td>0.0</td>\n",
       "    </tr>\n",
       "    <tr>\n",
       "      <th>546</th>\n",
       "      <td>Kokie Professional Matte Lipstick, Kiss Me, 0....</td>\n",
       "      <td>0.0</td>\n",
       "      <td>kokie, cosmetics</td>\n",
       "      <td>9.20</td>\n",
       "      <td>https://i5.walmartimages.com/asr/27dd82a2-2b9c...</td>\n",
       "      <td>0.0</td>\n",
       "    </tr>\n",
       "    <tr>\n",
       "      <th>2406</th>\n",
       "      <td>L.A. Colors Matte Lipstick, Tender Matte</td>\n",
       "      <td>3.0</td>\n",
       "      <td>colors</td>\n",
       "      <td>5.24</td>\n",
       "      <td>https://i5.walmartimages.com/asr/271264fb-e8c3...</td>\n",
       "      <td>3.7</td>\n",
       "    </tr>\n",
       "    <tr>\n",
       "      <th>4050</th>\n",
       "      <td>Kokie Professional Lip Poudre Liquid Matte Liq...</td>\n",
       "      <td>7.0</td>\n",
       "      <td>kokie, cosmetics</td>\n",
       "      <td>11.99</td>\n",
       "      <td>https://i5.walmartimages.com/asr/fdd7498c-319f...</td>\n",
       "      <td>3.4</td>\n",
       "    </tr>\n",
       "    <tr>\n",
       "      <th>4084</th>\n",
       "      <td>e.l.f. Mad for Matte 4 Piece Lip Color Set</td>\n",
       "      <td>0.0</td>\n",
       "      <td>cosmetics</td>\n",
       "      <td>18.22</td>\n",
       "      <td>https://i5.walmartimages.com/asr/e2d30304-edc9...</td>\n",
       "      <td>0.0</td>\n",
       "    </tr>\n",
       "    <tr>\n",
       "      <th>1559</th>\n",
       "      <td>LOreal Paris Colour Riche Matte Lip Liner, Mat...</td>\n",
       "      <td>495.0</td>\n",
       "      <td>paris</td>\n",
       "      <td>6.97</td>\n",
       "      <td>https://i5.walmartimages.com/asr/baf97085-7231...</td>\n",
       "      <td>4.4</td>\n",
       "    </tr>\n",
       "    <tr>\n",
       "      <th>2873</th>\n",
       "      <td>Kokie Professional Lip Poudre Liquid Matte Liq...</td>\n",
       "      <td>7.0</td>\n",
       "      <td>kokie, cosmetics</td>\n",
       "      <td>10.48</td>\n",
       "      <td>https://i5.walmartimages.com/asr/31c99d9b-ea11...</td>\n",
       "      <td>3.4</td>\n",
       "    </tr>\n",
       "    <tr>\n",
       "      <th>3023</th>\n",
       "      <td>Be Matte Lipstick - Pink</td>\n",
       "      <td>2.0</td>\n",
       "      <td>city, color</td>\n",
       "      <td>3.17</td>\n",
       "      <td>https://i5.walmartimages.com/asr/4425a13e-085f...</td>\n",
       "      <td>3.0</td>\n",
       "    </tr>\n",
       "    <tr>\n",
       "      <th>4541</th>\n",
       "      <td>Be Matte Lipstick - Soft Pink</td>\n",
       "      <td>2.0</td>\n",
       "      <td>city, color</td>\n",
       "      <td>3.17</td>\n",
       "      <td>https://i5.walmartimages.com/asr/69e1ec63-be5e...</td>\n",
       "      <td>3.0</td>\n",
       "    </tr>\n",
       "    <tr>\n",
       "      <th>1315</th>\n",
       "      <td>Be Matte Lipstick - Baby Pink</td>\n",
       "      <td>2.0</td>\n",
       "      <td>city, color</td>\n",
       "      <td>3.17</td>\n",
       "      <td>https://i5.walmartimages.com/asr/acadf0c0-739f...</td>\n",
       "      <td>3.0</td>\n",
       "    </tr>\n",
       "  </tbody>\n",
       "</table>\n",
       "</div>"
      ],
      "text/plain": [
       "                                                   name  reviewCount  \\\n",
       "3406  Kokie Professional Matte Lipstick, Firecracker...          0.0   \n",
       "546   Kokie Professional Matte Lipstick, Kiss Me, 0....          0.0   \n",
       "2406           L.A. Colors Matte Lipstick, Tender Matte          3.0   \n",
       "4050  Kokie Professional Lip Poudre Liquid Matte Liq...          7.0   \n",
       "4084         e.l.f. Mad for Matte 4 Piece Lip Color Set          0.0   \n",
       "1559  LOreal Paris Colour Riche Matte Lip Liner, Mat...        495.0   \n",
       "2873  Kokie Professional Lip Poudre Liquid Matte Liq...          7.0   \n",
       "3023                           Be Matte Lipstick - Pink          2.0   \n",
       "4541                      Be Matte Lipstick - Soft Pink          2.0   \n",
       "1315                      Be Matte Lipstick - Baby Pink          2.0   \n",
       "\n",
       "                 brand  price  \\\n",
       "3406  kokie, cosmetics   5.16   \n",
       "546   kokie, cosmetics   9.20   \n",
       "2406            colors   5.24   \n",
       "4050  kokie, cosmetics  11.99   \n",
       "4084         cosmetics  18.22   \n",
       "1559             paris   6.97   \n",
       "2873  kokie, cosmetics  10.48   \n",
       "3023       city, color   3.17   \n",
       "4541       city, color   3.17   \n",
       "1315       city, color   3.17   \n",
       "\n",
       "                                               imageUrl  rating  \n",
       "3406  https://i5.walmartimages.com/asr/8312221b-ed22...     0.0  \n",
       "546   https://i5.walmartimages.com/asr/27dd82a2-2b9c...     0.0  \n",
       "2406  https://i5.walmartimages.com/asr/271264fb-e8c3...     3.7  \n",
       "4050  https://i5.walmartimages.com/asr/fdd7498c-319f...     3.4  \n",
       "4084  https://i5.walmartimages.com/asr/e2d30304-edc9...     0.0  \n",
       "1559  https://i5.walmartimages.com/asr/baf97085-7231...     4.4  \n",
       "2873  https://i5.walmartimages.com/asr/31c99d9b-ea11...     3.4  \n",
       "3023  https://i5.walmartimages.com/asr/4425a13e-085f...     3.0  \n",
       "4541  https://i5.walmartimages.com/asr/69e1ec63-be5e...     3.0  \n",
       "1315  https://i5.walmartimages.com/asr/acadf0c0-739f...     3.0  "
      ]
     },
     "execution_count": 187,
     "metadata": {},
     "output_type": "execute_result"
    }
   ],
   "source": [
    "item_name='Kokie Professional Matte Lipstick, Hot Berry, 0.14 fl oz'\n",
    "target_user_id=4\n",
    "topn=10\n",
    "hybrid_rec=hybrid_recommendation(df, target_user_id, item_name, topn)\n",
    "print(f\"Top {topn} Hybrid recommendations for user {target_user_id} and Item {item_name}: \")\n",
    "hybrid_rec"
   ]
  },
  {
   "cell_type": "code",
   "execution_count": 189,
   "id": "edaaf699-1a7c-4371-9c9b-456ca7fd24aa",
   "metadata": {},
   "outputs": [
    {
     "data": {
      "text/plain": [
       "0       OPI Infinite Shine, Nail Lacquer Nail Polish, ...\n",
       "1       Nice n Easy Permanent Color, 111 Natural Mediu...\n",
       "2       Clairol Nice N Easy Permanent Color 7/106A Nat...\n",
       "3       Kokie Professional Matte Lipstick, Hot Berry, ...\n",
       "4       Gillette TRAC II Plus Razor Blade Refills, Fit...\n",
       "                              ...                        \n",
       "4995    Garden Mint Room Spray (Double Strength), 4 ou...\n",
       "4996    Garnier Nutrisse Nourishing Hair Color Creme (...\n",
       "4997    Nail File Electric Drill, 6 in 1 Professional ...\n",
       "4998    Creed Love In Black Hair And Body Wash 6.8oz/2...\n",
       "4999                                           Foundation\n",
       "Name: name, Length: 5000, dtype: object"
      ]
     },
     "execution_count": 189,
     "metadata": {},
     "output_type": "execute_result"
    }
   ],
   "source": [
    "df['name']"
   ]
  }
 ],
 "metadata": {
  "kernelspec": {
   "display_name": "Python 3 (ipykernel)",
   "language": "python",
   "name": "python3"
  },
  "language_info": {
   "codemirror_mode": {
    "name": "ipython",
    "version": 3
   },
   "file_extension": ".py",
   "mimetype": "text/x-python",
   "name": "python",
   "nbconvert_exporter": "python",
   "pygments_lexer": "ipython3",
   "version": "3.11.8"
  }
 },
 "nbformat": 4,
 "nbformat_minor": 5
}
